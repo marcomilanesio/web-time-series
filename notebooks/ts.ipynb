{
 "cells": [
  {
   "cell_type": "markdown",
   "metadata": {},
   "source": [
    "### Context \n",
    "We investigate a given topic on DBPEDIA.FR (the elections in 2012) from a time series analysis perspective.\n",
    "\n",
    "### Methodology\n",
    "* retrieve dbpedia history from sparql endpoint\n",
    "* clean the data\n",
    "* get the time series associated to the revision history of the pages\n",
    "* time series analysis\n",
    "* modelling"
   ]
  },
  {
   "cell_type": "code",
   "execution_count": 162,
   "metadata": {
    "collapsed": true
   },
   "outputs": [],
   "source": [
    "from SPARQLWrapper import SPARQLWrapper, JSON\n",
    "import json\n",
    "import re\n",
    "import pandas as pd\n",
    "import matplotlib.pyplot as plt\n",
    "import numpy as np\n",
    "%matplotlib inline\n",
    "\n",
    "sparql = SPARQLWrapper(\"http://dbpedia-historique.inria.fr/sparql\")\n",
    "a = \"Élection_présidentielle_française_de_2012\""
   ]
  },
  {
   "cell_type": "markdown",
   "metadata": {},
   "source": [
    "### Query 1: get all the people involved in the topic\n",
    "The query returns the list of the linked pages of people in the main page of the topic, associated with the monthly revision history for the year 2012."
   ]
  },
  {
   "cell_type": "code",
   "execution_count": 163,
   "metadata": {
    "collapsed": true
   },
   "outputs": [],
   "source": [
    "query = \"\"\"prefix db:   <http://fr.dbpedia.org/resource/>\n",
    "prefix dbo:  <http://dbpedia.org/ontology/>\n",
    "prefix dbfr: <http://ns.inria.fr/dbpediafr/voc#>\n",
    "prefix foaf: <http://xmlns.com/foaf/0.1/>\n",
    "prefix dc:   <http://purl.org/dc/element/1.1/>\n",
    "\n",
    "select  * where {\n",
    "\n",
    "        {select distinct * where {\n",
    "            db:Élection_présidentielle_française_de_2012 dbo:wikiPageWikiLink/(dbo:wikiPageRedirects)? ?res .\n",
    "            ?res a foaf:Person\n",
    "        }}\n",
    "   \n",
    "   \n",
    "            ?rev dc:date ?date .\n",
    "            filter contains(str(?date), \"2012\")\n",
    "            ?x dbfr:revPerMonth ?rev .\n",
    "            ?x foaf:primaryTopic ?res .\n",
    "            ?rev rdf:value ?c .\n",
    "       \n",
    "   \n",
    "}\"\"\""
   ]
  },
  {
   "cell_type": "code",
   "execution_count": 164,
   "metadata": {
    "collapsed": false
   },
   "outputs": [],
   "source": [
    "sparql.setQuery(query)\n",
    "\n",
    "sparql.setReturnFormat(JSON)\n",
    "results = sparql.query().convert()"
   ]
  },
  {
   "cell_type": "code",
   "execution_count": 165,
   "metadata": {
    "collapsed": false
   },
   "outputs": [],
   "source": [
    "from collections import defaultdict\n",
    "tmp = defaultdict(set)\n",
    "for record in results[\"results\"][\"bindings\"]:\n",
    "    date = pd.to_datetime(record['date']['value'], format=\"%m/%Y\")\n",
    "    node_id = record['rev']['value']\n",
    "    uri = record['res']['value']\n",
    "    num_rev = int(record['c']['value'])\n",
    "    tmp[uri].add((date, num_rev))  # avoid duplicates\n",
    "\n",
    "dic = defaultdict(list, ((k, list(v)) for k, v in tmp.items()))"
   ]
  },
  {
   "cell_type": "code",
   "execution_count": 166,
   "metadata": {
    "collapsed": false
   },
   "outputs": [],
   "source": [
    "dfs = []\n",
    "uris = []\n",
    "for uri, values in dic.items():\n",
    "    uris.append(uri)\n",
    "    k = uri.split(\"/\")[-1:][0]\n",
    "    d = sorted(values, key=lambda x: x[0])\n",
    "    df = pd.DataFrame.from_records(d, columns=['dateval', k])\n",
    "    df.index = pd.DatetimeIndex(df.dateval)\n",
    "    del df['dateval']\n",
    "    dfs.append(df)\n",
    "    # print(uri)\n",
    "    \n",
    "yearly_series = pd.concat(dfs, axis=1).fillna(0)"
   ]
  },
  {
   "cell_type": "code",
   "execution_count": 167,
   "metadata": {
    "collapsed": false
   },
   "outputs": [
    {
     "data": {
      "text/html": [
       "<div>\n",
       "<table border=\"1\" class=\"dataframe\">\n",
       "  <thead>\n",
       "    <tr style=\"text-align: right;\">\n",
       "      <th></th>\n",
       "      <th>Mustapha_Ben_Jaafar</th>\n",
       "      <th>Yves_Calvi</th>\n",
       "      <th>Antoni_Martí</th>\n",
       "      <th>Eva_Joly</th>\n",
       "      <th>Alain_Duhamel</th>\n",
       "      <th>Nicolas_Dupont-Aignan</th>\n",
       "      <th>Florian_Philippot</th>\n",
       "      <th>Alain_Juppé</th>\n",
       "      <th>David_Pujadas</th>\n",
       "      <th>Pedro_Passos_Coelho</th>\n",
       "      <th>...</th>\n",
       "      <th>Christophe_Barbier</th>\n",
       "      <th>Jean_Charest</th>\n",
       "      <th>Olivier_Besancenot</th>\n",
       "      <th>Barack_Obama</th>\n",
       "      <th>Franz-Olivier_Giesbert</th>\n",
       "      <th>Pierre_Carles</th>\n",
       "      <th>Nicolas_Miguet</th>\n",
       "      <th>Alain_Marschall</th>\n",
       "      <th>Jean-Michel_Aphatie</th>\n",
       "      <th>Jacques_Cheminade</th>\n",
       "    </tr>\n",
       "  </thead>\n",
       "  <tbody>\n",
       "    <tr>\n",
       "      <th>2012-01-01</th>\n",
       "      <td>10.0</td>\n",
       "      <td>2.0</td>\n",
       "      <td>0.0</td>\n",
       "      <td>63</td>\n",
       "      <td>4.0</td>\n",
       "      <td>4</td>\n",
       "      <td>19.0</td>\n",
       "      <td>9.0</td>\n",
       "      <td>0.0</td>\n",
       "      <td>5.0</td>\n",
       "      <td>...</td>\n",
       "      <td>39</td>\n",
       "      <td>8.0</td>\n",
       "      <td>8.0</td>\n",
       "      <td>6</td>\n",
       "      <td>3.0</td>\n",
       "      <td>0.0</td>\n",
       "      <td>21.0</td>\n",
       "      <td>1.0</td>\n",
       "      <td>1.0</td>\n",
       "      <td>10.0</td>\n",
       "    </tr>\n",
       "    <tr>\n",
       "      <th>2012-02-01</th>\n",
       "      <td>6.0</td>\n",
       "      <td>2.0</td>\n",
       "      <td>3.0</td>\n",
       "      <td>37</td>\n",
       "      <td>2.0</td>\n",
       "      <td>27</td>\n",
       "      <td>0.0</td>\n",
       "      <td>18.0</td>\n",
       "      <td>23.0</td>\n",
       "      <td>1.0</td>\n",
       "      <td>...</td>\n",
       "      <td>7</td>\n",
       "      <td>0.0</td>\n",
       "      <td>4.0</td>\n",
       "      <td>10</td>\n",
       "      <td>6.0</td>\n",
       "      <td>22.0</td>\n",
       "      <td>24.0</td>\n",
       "      <td>0.0</td>\n",
       "      <td>0.0</td>\n",
       "      <td>205.0</td>\n",
       "    </tr>\n",
       "    <tr>\n",
       "      <th>2012-03-01</th>\n",
       "      <td>1.0</td>\n",
       "      <td>4.0</td>\n",
       "      <td>1.0</td>\n",
       "      <td>23</td>\n",
       "      <td>11.0</td>\n",
       "      <td>33</td>\n",
       "      <td>0.0</td>\n",
       "      <td>3.0</td>\n",
       "      <td>13.0</td>\n",
       "      <td>7.0</td>\n",
       "      <td>...</td>\n",
       "      <td>25</td>\n",
       "      <td>5.0</td>\n",
       "      <td>5.0</td>\n",
       "      <td>9</td>\n",
       "      <td>11.0</td>\n",
       "      <td>3.0</td>\n",
       "      <td>24.0</td>\n",
       "      <td>0.0</td>\n",
       "      <td>19.0</td>\n",
       "      <td>273.0</td>\n",
       "    </tr>\n",
       "    <tr>\n",
       "      <th>2012-04-01</th>\n",
       "      <td>0.0</td>\n",
       "      <td>0.0</td>\n",
       "      <td>1.0</td>\n",
       "      <td>61</td>\n",
       "      <td>4.0</td>\n",
       "      <td>61</td>\n",
       "      <td>0.0</td>\n",
       "      <td>6.0</td>\n",
       "      <td>17.0</td>\n",
       "      <td>0.0</td>\n",
       "      <td>...</td>\n",
       "      <td>5</td>\n",
       "      <td>6.0</td>\n",
       "      <td>7.0</td>\n",
       "      <td>12</td>\n",
       "      <td>52.0</td>\n",
       "      <td>27.0</td>\n",
       "      <td>1.0</td>\n",
       "      <td>1.0</td>\n",
       "      <td>15.0</td>\n",
       "      <td>101.0</td>\n",
       "    </tr>\n",
       "    <tr>\n",
       "      <th>2012-05-01</th>\n",
       "      <td>0.0</td>\n",
       "      <td>4.0</td>\n",
       "      <td>2.0</td>\n",
       "      <td>46</td>\n",
       "      <td>5.0</td>\n",
       "      <td>22</td>\n",
       "      <td>0.0</td>\n",
       "      <td>47.0</td>\n",
       "      <td>24.0</td>\n",
       "      <td>1.0</td>\n",
       "      <td>...</td>\n",
       "      <td>8</td>\n",
       "      <td>24.0</td>\n",
       "      <td>0.0</td>\n",
       "      <td>4</td>\n",
       "      <td>7.0</td>\n",
       "      <td>18.0</td>\n",
       "      <td>2.0</td>\n",
       "      <td>1.0</td>\n",
       "      <td>4.0</td>\n",
       "      <td>20.0</td>\n",
       "    </tr>\n",
       "  </tbody>\n",
       "</table>\n",
       "<p>5 rows × 69 columns</p>\n",
       "</div>"
      ],
      "text/plain": [
       "            Mustapha_Ben_Jaafar  Yves_Calvi  Antoni_Martí  Eva_Joly  \\\n",
       "2012-01-01                 10.0         2.0           0.0        63   \n",
       "2012-02-01                  6.0         2.0           3.0        37   \n",
       "2012-03-01                  1.0         4.0           1.0        23   \n",
       "2012-04-01                  0.0         0.0           1.0        61   \n",
       "2012-05-01                  0.0         4.0           2.0        46   \n",
       "\n",
       "            Alain_Duhamel  Nicolas_Dupont-Aignan  Florian_Philippot  \\\n",
       "2012-01-01            4.0                      4               19.0   \n",
       "2012-02-01            2.0                     27                0.0   \n",
       "2012-03-01           11.0                     33                0.0   \n",
       "2012-04-01            4.0                     61                0.0   \n",
       "2012-05-01            5.0                     22                0.0   \n",
       "\n",
       "            Alain_Juppé  David_Pujadas  Pedro_Passos_Coelho  \\\n",
       "2012-01-01          9.0            0.0                  5.0   \n",
       "2012-02-01         18.0           23.0                  1.0   \n",
       "2012-03-01          3.0           13.0                  7.0   \n",
       "2012-04-01          6.0           17.0                  0.0   \n",
       "2012-05-01         47.0           24.0                  1.0   \n",
       "\n",
       "                  ...          Christophe_Barbier  Jean_Charest  \\\n",
       "2012-01-01        ...                          39           8.0   \n",
       "2012-02-01        ...                           7           0.0   \n",
       "2012-03-01        ...                          25           5.0   \n",
       "2012-04-01        ...                           5           6.0   \n",
       "2012-05-01        ...                           8          24.0   \n",
       "\n",
       "            Olivier_Besancenot  Barack_Obama  Franz-Olivier_Giesbert  \\\n",
       "2012-01-01                 8.0             6                     3.0   \n",
       "2012-02-01                 4.0            10                     6.0   \n",
       "2012-03-01                 5.0             9                    11.0   \n",
       "2012-04-01                 7.0            12                    52.0   \n",
       "2012-05-01                 0.0             4                     7.0   \n",
       "\n",
       "            Pierre_Carles  Nicolas_Miguet  Alain_Marschall  \\\n",
       "2012-01-01            0.0            21.0              1.0   \n",
       "2012-02-01           22.0            24.0              0.0   \n",
       "2012-03-01            3.0            24.0              0.0   \n",
       "2012-04-01           27.0             1.0              1.0   \n",
       "2012-05-01           18.0             2.0              1.0   \n",
       "\n",
       "            Jean-Michel_Aphatie  Jacques_Cheminade  \n",
       "2012-01-01                  1.0               10.0  \n",
       "2012-02-01                  0.0              205.0  \n",
       "2012-03-01                 19.0              273.0  \n",
       "2012-04-01                 15.0              101.0  \n",
       "2012-05-01                  4.0               20.0  \n",
       "\n",
       "[5 rows x 69 columns]"
      ]
     },
     "execution_count": 167,
     "metadata": {},
     "output_type": "execute_result"
    }
   ],
   "source": [
    "yearly_series.head()"
   ]
  },
  {
   "cell_type": "markdown",
   "metadata": {},
   "source": [
    "* 69 people\n",
    "* Distribution of number of reviews in year 2012 (monthly granularity)."
   ]
  },
  {
   "cell_type": "code",
   "execution_count": 194,
   "metadata": {
    "collapsed": false
   },
   "outputs": [
    {
     "data": {
      "text/plain": [
       "[<matplotlib.lines.Line2D at 0x7f7e8db23d30>]"
      ]
     },
     "execution_count": 194,
     "metadata": {},
     "output_type": "execute_result"
    },
    {
     "data": {
      "image/png": "[encoded data removed]",
      "text/plain": [
       "<matplotlib.figure.Figure at 0x7f7e8db55cf8>"
      ]
     },
     "metadata": {},
     "output_type": "display_data"
    }
   ],
   "source": [
    "y = sorted(yearly_series.sum())\n",
    "cdf = np.array([(i/len(y),x) for i, x in enumerate(y)])\n",
    "Y = [x[0] for x in cdf]\n",
    "X = [x[1] for x in cdf]\n",
    "plt.plot(X,Y)"
   ]
  },
  {
   "cell_type": "code",
   "execution_count": 200,
   "metadata": {
    "collapsed": false
   },
   "outputs": [
    {
     "data": {
      "text/html": [
       "<div>\n",
       "<table border=\"1\" class=\"dataframe\">\n",
       "  <thead>\n",
       "    <tr style=\"text-align: right;\">\n",
       "      <th></th>\n",
       "      <th>Eva_Joly</th>\n",
       "      <th>Nicolas_Dupont-Aignan</th>\n",
       "      <th>Ségolène_Royal</th>\n",
       "      <th>Arnaud_Montebourg</th>\n",
       "      <th>Marine_Le_Pen</th>\n",
       "      <th>Angela_Merkel</th>\n",
       "      <th>Philippe_Pétain</th>\n",
       "      <th>Jean-Marc_Ayrault</th>\n",
       "      <th>François_Hollande</th>\n",
       "      <th>François_Bayrou</th>\n",
       "      <th>Mario_Monti</th>\n",
       "      <th>Laurence_Ferrari</th>\n",
       "      <th>Dominique_Strauss-Kahn</th>\n",
       "      <th>Nicolas_Sarkozy</th>\n",
       "      <th>Jean-Luc_Mélenchon</th>\n",
       "      <th>Nathalie_Kosciusko-Morizet</th>\n",
       "      <th>Manuel_Valls</th>\n",
       "      <th>Barack_Obama</th>\n",
       "      <th>Jacques_Cheminade</th>\n",
       "    </tr>\n",
       "  </thead>\n",
       "  <tbody>\n",
       "    <tr>\n",
       "      <th>2012-01-01</th>\n",
       "      <td>63</td>\n",
       "      <td>4</td>\n",
       "      <td>17</td>\n",
       "      <td>5</td>\n",
       "      <td>64.0</td>\n",
       "      <td>16</td>\n",
       "      <td>35</td>\n",
       "      <td>5</td>\n",
       "      <td>73</td>\n",
       "      <td>41</td>\n",
       "      <td>7.0</td>\n",
       "      <td>5</td>\n",
       "      <td>6</td>\n",
       "      <td>73</td>\n",
       "      <td>47</td>\n",
       "      <td>4</td>\n",
       "      <td>10</td>\n",
       "      <td>6</td>\n",
       "      <td>10.0</td>\n",
       "    </tr>\n",
       "    <tr>\n",
       "      <th>2012-02-01</th>\n",
       "      <td>37</td>\n",
       "      <td>27</td>\n",
       "      <td>17</td>\n",
       "      <td>6</td>\n",
       "      <td>26.0</td>\n",
       "      <td>6</td>\n",
       "      <td>5</td>\n",
       "      <td>15</td>\n",
       "      <td>72</td>\n",
       "      <td>57</td>\n",
       "      <td>11.0</td>\n",
       "      <td>20</td>\n",
       "      <td>12</td>\n",
       "      <td>62</td>\n",
       "      <td>29</td>\n",
       "      <td>54</td>\n",
       "      <td>11</td>\n",
       "      <td>10</td>\n",
       "      <td>205.0</td>\n",
       "    </tr>\n",
       "    <tr>\n",
       "      <th>2012-03-01</th>\n",
       "      <td>23</td>\n",
       "      <td>33</td>\n",
       "      <td>21</td>\n",
       "      <td>3</td>\n",
       "      <td>26.0</td>\n",
       "      <td>17</td>\n",
       "      <td>7</td>\n",
       "      <td>1</td>\n",
       "      <td>66</td>\n",
       "      <td>28</td>\n",
       "      <td>9.0</td>\n",
       "      <td>5</td>\n",
       "      <td>33</td>\n",
       "      <td>135</td>\n",
       "      <td>62</td>\n",
       "      <td>16</td>\n",
       "      <td>7</td>\n",
       "      <td>9</td>\n",
       "      <td>273.0</td>\n",
       "    </tr>\n",
       "    <tr>\n",
       "      <th>2012-04-01</th>\n",
       "      <td>61</td>\n",
       "      <td>61</td>\n",
       "      <td>12</td>\n",
       "      <td>4</td>\n",
       "      <td>86.0</td>\n",
       "      <td>23</td>\n",
       "      <td>17</td>\n",
       "      <td>31</td>\n",
       "      <td>204</td>\n",
       "      <td>51</td>\n",
       "      <td>12.0</td>\n",
       "      <td>15</td>\n",
       "      <td>15</td>\n",
       "      <td>207</td>\n",
       "      <td>145</td>\n",
       "      <td>25</td>\n",
       "      <td>10</td>\n",
       "      <td>12</td>\n",
       "      <td>101.0</td>\n",
       "    </tr>\n",
       "    <tr>\n",
       "      <th>2012-05-01</th>\n",
       "      <td>46</td>\n",
       "      <td>22</td>\n",
       "      <td>37</td>\n",
       "      <td>79</td>\n",
       "      <td>39.0</td>\n",
       "      <td>24</td>\n",
       "      <td>34</td>\n",
       "      <td>316</td>\n",
       "      <td>1049</td>\n",
       "      <td>56</td>\n",
       "      <td>4.0</td>\n",
       "      <td>62</td>\n",
       "      <td>42</td>\n",
       "      <td>309</td>\n",
       "      <td>110</td>\n",
       "      <td>47</td>\n",
       "      <td>158</td>\n",
       "      <td>4</td>\n",
       "      <td>20.0</td>\n",
       "    </tr>\n",
       "  </tbody>\n",
       "</table>\n",
       "</div>"
      ],
      "text/plain": [
       "            Eva_Joly  Nicolas_Dupont-Aignan  Ségolène_Royal  \\\n",
       "2012-01-01        63                      4              17   \n",
       "2012-02-01        37                     27              17   \n",
       "2012-03-01        23                     33              21   \n",
       "2012-04-01        61                     61              12   \n",
       "2012-05-01        46                     22              37   \n",
       "\n",
       "            Arnaud_Montebourg  Marine_Le_Pen  Angela_Merkel  Philippe_Pétain  \\\n",
       "2012-01-01                  5           64.0             16               35   \n",
       "2012-02-01                  6           26.0              6                5   \n",
       "2012-03-01                  3           26.0             17                7   \n",
       "2012-04-01                  4           86.0             23               17   \n",
       "2012-05-01                 79           39.0             24               34   \n",
       "\n",
       "            Jean-Marc_Ayrault  François_Hollande  François_Bayrou  \\\n",
       "2012-01-01                  5                 73               41   \n",
       "2012-02-01                 15                 72               57   \n",
       "2012-03-01                  1                 66               28   \n",
       "2012-04-01                 31                204               51   \n",
       "2012-05-01                316               1049               56   \n",
       "\n",
       "            Mario_Monti  Laurence_Ferrari  Dominique_Strauss-Kahn  \\\n",
       "2012-01-01          7.0                 5                       6   \n",
       "2012-02-01         11.0                20                      12   \n",
       "2012-03-01          9.0                 5                      33   \n",
       "2012-04-01         12.0                15                      15   \n",
       "2012-05-01          4.0                62                      42   \n",
       "\n",
       "            Nicolas_Sarkozy  Jean-Luc_Mélenchon  Nathalie_Kosciusko-Morizet  \\\n",
       "2012-01-01               73                  47                           4   \n",
       "2012-02-01               62                  29                          54   \n",
       "2012-03-01              135                  62                          16   \n",
       "2012-04-01              207                 145                          25   \n",
       "2012-05-01              309                 110                          47   \n",
       "\n",
       "            Manuel_Valls  Barack_Obama  Jacques_Cheminade  \n",
       "2012-01-01            10             6               10.0  \n",
       "2012-02-01            11            10              205.0  \n",
       "2012-03-01             7             9              273.0  \n",
       "2012-04-01            10            12              101.0  \n",
       "2012-05-01           158             4               20.0  "
      ]
     },
     "execution_count": 200,
     "metadata": {},
     "output_type": "execute_result"
    }
   ],
   "source": [
    "criteria = yearly_series.sum(axis=0) > 200\n",
    "df = yearly_series[criteria.index[criteria]]\n",
    "df.head()"
   ]
  },
  {
   "cell_type": "code",
   "execution_count": 211,
   "metadata": {
    "collapsed": false
   },
   "outputs": [
    {
     "name": "stdout",
     "output_type": "stream",
     "text": [
      "Eva_Joly 327\n",
      "Nicolas_Dupont-Aignan 215\n",
      "Ségolène_Royal 283\n",
      "Arnaud_Montebourg 246\n",
      "Marine_Le_Pen 395.0\n",
      "Angela_Merkel 265\n",
      "Philippe_Pétain 336\n",
      "Jean-Marc_Ayrault 587\n",
      "François_Hollande 1955\n",
      "François_Bayrou 285\n",
      "Mario_Monti 220.0\n",
      "Laurence_Ferrari 213\n",
      "Dominique_Strauss-Kahn 316\n",
      "Nicolas_Sarkozy 1251\n",
      "Jean-Luc_Mélenchon 556\n",
      "Nathalie_Kosciusko-Morizet 239\n",
      "Manuel_Valls 453\n",
      "Barack_Obama 214\n",
      "Jacques_Cheminade 640.0\n"
     ]
    }
   ],
   "source": [
    "for name in df:\n",
    "    print(name, df[name].sum())"
   ]
  },
  {
   "cell_type": "code",
   "execution_count": 212,
   "metadata": {
    "collapsed": false
   },
   "outputs": [],
   "source": [
    "query2_stub = \"\"\"prefix db:   <http://fr.dbpedia.org/resource/>\n",
    "prefix dbo:  <http://dbpedia.org/ontology/>\n",
    "prefix foaf: <http://xmlns.com/foaf/0.1/>\n",
    "prefix dc:   <http://purl.org/dc/element/1.1/>\n",
    "prefix voc:  <http://ns.inria.fr/dbpediafr/voc#>\n",
    "prefix prov: <http://www.w3.org/ns/prov#>\n",
    "select  ?res (year(?date) as ?y) (month(?date) as ?m) (day(?date) as ?d) (count(*) as ?n) (group_concat(?value ; separator=\" -- \") as ?gc)\n",
    "where {\n",
    "    ?x foaf:primaryTopic ?res .\n",
    "    ?x prov:wasRevisionOf+ ?prev .\n",
    "    ?prev dc:created ?date .\n",
    "    filter (year(?date) = 2012)\n",
    "    ?prev rdf:note ?value\n",
    "}\n",
    "group by ?res year(?date) month(?date) day(?date)\n",
    "order by ?m ?d\n",
    "values ?res {\n",
    "\"\"\"\n",
    "\n",
    "for name in df:\n",
    "    q = query2_stub + \" <{}>\".format(name) + \"}\"\n",
    "    break"
   ]
  },
  {
   "cell_type": "code",
   "execution_count": 213,
   "metadata": {
    "collapsed": false
   },
   "outputs": [
    {
     "data": {
      "text/plain": [
       "'prefix db:   <http://fr.dbpedia.org/resource/>\\nprefix dbo:  <http://dbpedia.org/ontology/>\\nprefix foaf: <http://xmlns.com/foaf/0.1/>\\nprefix dc:   <http://purl.org/dc/element/1.1/>\\nprefix voc:  <http://ns.inria.fr/dbpediafr/voc#>\\nprefix prov: <http://www.w3.org/ns/prov#>\\nselect  ?res (year(?date) as ?y) (month(?date) as ?m) (day(?date) as ?d) (count(*) as ?n) (group_concat(?value ; separator=\" -- \") as ?gc)\\nwhere {\\n    ?x foaf:primaryTopic ?res .\\n    ?x prov:wasRevisionOf+ ?prev .\\n    ?prev dc:created ?date .\\n    filter (year(?date) = 2012)\\n    ?prev rdf:note ?value\\n}\\ngroup by ?res year(?date) month(?date) day(?date)\\norder by ?m ?d\\nvalues ?res {\\n <Eva_Joly>}'"
      ]
     },
     "execution_count": 213,
     "metadata": {},
     "output_type": "execute_result"
    }
   ],
   "source": [
    "q"
   ]
  },
  {
   "cell_type": "code",
   "execution_count": 214,
   "metadata": {
    "collapsed": false
   },
   "outputs": [],
   "source": [
    "sparql.setQuery(q)\n",
    "\n",
    "sparql.setReturnFormat(JSON)\n",
    "results = sparql.query().convert()"
   ]
  },
  {
   "cell_type": "code",
   "execution_count": 215,
   "metadata": {
    "collapsed": false
   },
   "outputs": [],
   "source": []
  },
  {
   "cell_type": "code",
   "execution_count": 216,
   "metadata": {
    "collapsed": false
   },
   "outputs": [],
   "source": [
    "for record in results['results']['bindings']:\n",
    "    print(record.keys())"
   ]
  },
  {
   "cell_type": "code",
   "execution_count": 217,
   "metadata": {
    "collapsed": false
   },
   "outputs": [
    {
     "data": {
      "text/plain": [
       "{'head': {'link': [], 'vars': ['res', 'y', 'm', 'd', 'n', 'gc']},\n",
       " 'results': {'bindings': [], 'distinct': False, 'ordered': True}}"
      ]
     },
     "execution_count": 217,
     "metadata": {},
     "output_type": "execute_result"
    }
   ],
   "source": [
    "results"
   ]
  },
  {
   "cell_type": "code",
   "execution_count": null,
   "metadata": {
    "collapsed": true
   },
   "outputs": [],
   "source": []
  }
 ],
 "metadata": {
  "kernelspec": {
   "display_name": "Python 3",
   "language": "python",
   "name": "python3"
  },
  "language_info": {
   "codemirror_mode": {
    "name": "ipython",
    "version": 3
   },
   "file_extension": ".py",
   "mimetype": "text/x-python",
   "name": "python",
   "nbconvert_exporter": "python",
   "pygments_lexer": "ipython3",
   "version": "3.4.3"
  }
 },
 "nbformat": 4,
 "nbformat_minor": 1
}
